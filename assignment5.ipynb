{
 "cells": [
  {
   "cell_type": "code",
   "execution_count": 3,
   "id": "5d579772",
   "metadata": {
    "scrolled": true
   },
   "outputs": [],
   "source": [
    "import pandas as pd\n",
    "import random as rnd\n",
    "import numpy as np\n",
    "from collections import Counter"
   ]
  },
  {
   "cell_type": "code",
   "execution_count": 4,
   "id": "eacec6e9",
   "metadata": {},
   "outputs": [],
   "source": [
    "def data_split(data_arr):\n",
    "    num_rows, num_cols = data_arr.shape\n",
    "    pred_data = data_arr[:, :-1].copy()\n",
    "    tar_data = data_arr[:, -1]\n",
    "    tar_data = tar_data.reshape(len(tar_data), 1)\n",
    "    return pred_data, tar_data"
   ]
  },
  {
   "cell_type": "code",
   "execution_count": 5,
   "id": "1119f20d",
   "metadata": {},
   "outputs": [],
   "source": [
    "def confusion_matrix(test_tar, predictions):\n",
    "    test_tar, predictions = test_tar.flatten(), predictions.flatten()\n",
    "    uni_class = np.unique(test_tar)\n",
    "    matrix = np.zeros((uni_class.shape[0], uni_class.shape[0]))\n",
    "    for i, actual in enumerate(uni_class):\n",
    "        for j, pred in enumerate(uni_class):\n",
    "            matrix[i, j] = np.sum(np.logical_and(test_tar == actual, predictions == pred))\n",
    "    return matrix"
   ]
  },
  {
   "cell_type": "code",
   "execution_count": 6,
   "id": "48375129",
   "metadata": {},
   "outputs": [],
   "source": [
    "def calculate_metrics(confusion_mtx):\n",
    "    tp = np.diag(confusion_mtx)\n",
    "    fn = np.sum(confusion_mtx, axis=1) - tp\n",
    "    fp = np.sum(confusion_mtx, axis=0) - tp\n",
    "    tn = np.sum(confusion_mtx) - (tp + fn + fp)\n",
    "    precision = tp / (tp + fp)\n",
    "    recall = tp / (tp + fn)\n",
    "    accuracy = np.sum(np.diag(confusion_mtx)) / np.sum(confusion_mtx)\n",
    "    return precision, recall, accuracy"
   ]
  },
  {
   "cell_type": "code",
   "execution_count": 7,
   "id": "c46fe2a0",
   "metadata": {},
   "outputs": [],
   "source": [
    "def feature_normalizer(arr):\n",
    "    arr_min = arr.min(axis=1, keepdims=True)  # Taking advantage of numpy broadcasting\n",
    "    arr_max = arr.max(axis=1, keepdims=True)  # Smaller array is \"broadcast\" across the larger array\n",
    "    arr_norm = (arr - arr_min) / (arr_max - arr_min)\n",
    "    return arr_norm"
   ]
  },
  {
   "cell_type": "code",
   "execution_count": 8,
   "id": "5a78327c",
   "metadata": {},
   "outputs": [],
   "source": [
    "def kNN_alg(train_pred, test_pred, train_tar, test_tar):\n",
    "    distances = np.zeros(shape=(len(test_tar), 9))\n",
    "    mydict = dict()\n",
    "    for i in range(len(test_pred)):\n",
    "        point, train_pred = test_pred[i].astype(float), train_pred.astype(float)\n",
    "        diff_arr = train_pred - point  # Numpy broadcast applies\n",
    "        dist_arr = np.sqrt(np.sum(diff_arr * diff_arr, axis=1))\n",
    "        distances[i] = np.argsort(dist_arr)[:9]\n",
    "    for k in range(1, 10, 2):\n",
    "        guess_class = np.zeros(shape=(len(test_tar), k))\n",
    "        temp = distances[:, :k].astype(int)\n",
    "        for j in range(len(temp)):\n",
    "            guess_class[j] = train_tar[temp[j]].flatten()\n",
    "        guess_class = guess_class.astype(int)\n",
    "        predictions = np.apply_along_axis(lambda x: np.bincount(x).argmax(), axis=1, arr=guess_class).reshape(\n",
    "            len(test_tar), 1)\n",
    "        conf_mtx = confusion_matrix(test_tar.flatten(), predictions.flatten())\n",
    "        precisions, recalls, accuracy = calculate_metrics(conf_mtx)\n",
    "        recall_macro_avg = np.sum(recalls) / len(recalls)\n",
    "        prec_macro_avg = np.sum(precisions) / len(precisions)\n",
    "        mydict[k] = {\"accuracy\": \"{:.2%}\".format(accuracy), \"Recall Macro Average\": \"{:.2%}\".format(recall_macro_avg),\n",
    "                     \"Precision Macro Average\": \"{:.2%}\".format(prec_macro_avg)}\n",
    "    print(mydict)\n",
    "        \n",
    "        "
   ]
  },
  {
   "cell_type": "code",
   "execution_count": 9,
   "id": "27718b45",
   "metadata": {
    "scrolled": false
   },
   "outputs": [],
   "source": [
    "df = pd.read_csv(\"16P.csv\", encoding=\"Latin1\" )\n",
    "df = df.drop(\"Response Id\", axis=1)\n",
    "\n",
    "df.loc[df[\"Personality\"] == \"ESTJ\", \"Personality\"] = 0\n",
    "df.loc[df[\"Personality\"] == \"ENTJ\", \"Personality\"] = 1\n",
    "df.loc[df[\"Personality\"] == \"ESFJ\", \"Personality\"] = 2\n",
    "df.loc[df[\"Personality\"] == \"ENFJ\", \"Personality\"] = 3\n",
    "df.loc[df[\"Personality\"] == \"ISTJ\", \"Personality\"] = 4\n",
    "df.loc[df[\"Personality\"] == \"ISFJ\", \"Personality\"] = 5\n",
    "df.loc[df[\"Personality\"] == \"INTJ\", \"Personality\"] = 6\n",
    "df.loc[df[\"Personality\"] == \"INFJ\", \"Personality\"] = 7\n",
    "df.loc[df[\"Personality\"] == \"ESTP\", \"Personality\"] = 8\n",
    "df.loc[df[\"Personality\"] == \"ESFP\", \"Personality\"] = 9\n",
    "df.loc[df[\"Personality\"] == \"ENTP\", \"Personality\"] = 10\n",
    "df.loc[df[\"Personality\"] == \"ENFP\", \"Personality\"] = 11\n",
    "df.loc[df[\"Personality\"] == \"ISTP\", \"Personality\"] = 12 \n",
    "df.loc[df[\"Personality\"] == \"ISFP\", \"Personality\"] = 13\n",
    "df.loc[df[\"Personality\"] == \"INTP\", \"Personality\"] = 14\n",
    "df.loc[df[\"Personality\"] == \"INFP\", \"Personality\"] = 15\n",
    "\n",
    "data_arr = np.array(df)\n",
    "pred_data, tar_data = data_split(data_arr)\n",
    "pred1, pred2, pred3, pred4, pred5 = np.array_split(pred_data, 5)\n",
    "tar1, tar2, tar3, tar4, tar5 = np.array_split(tar_data, 5)"
   ]
  },
  {
   "cell_type": "markdown",
   "id": "fd48071b",
   "metadata": {},
   "source": [
    "<b style='color:blue !important;'>Without Feature Normalization</b>\n"
   ]
  },
  {
   "cell_type": "markdown",
   "id": "39956d47",
   "metadata": {},
   "source": [
    "<b style='color:red !important;'>First Fold</b>"
   ]
  },
  {
   "cell_type": "code",
   "execution_count": 10,
   "id": "2d64d115",
   "metadata": {
    "scrolled": true
   },
   "outputs": [
    {
     "name": "stdout",
     "output_type": "stream",
     "text": [
      "{1: {'accuracy': '97.87%', 'Recall Macro Average': '97.86%', 'Precision Macro Average': '97.87%'}, 3: {'accuracy': '98.86%', 'Recall Macro Average': '98.85%', 'Precision Macro Average': '98.87%'}, 5: {'accuracy': '98.92%', 'Recall Macro Average': '98.92%', 'Precision Macro Average': '98.93%'}, 7: {'accuracy': '98.94%', 'Recall Macro Average': '98.94%', 'Precision Macro Average': '98.95%'}, 9: {'accuracy': '98.97%', 'Recall Macro Average': '98.96%', 'Precision Macro Average': '98.97%'}}\n"
     ]
    }
   ],
   "source": [
    "kNN_alg(np.concatenate((pred2, pred3, pred4, pred5), axis=0), pred1,\n",
    "        np.concatenate((tar2, tar3, tar4, tar5), axis=0), tar1)"
   ]
  },
  {
   "cell_type": "markdown",
   "id": "792d4386",
   "metadata": {},
   "source": [
    "<b style='color:red !important;'>Second Fold</b>"
   ]
  },
  {
   "cell_type": "code",
   "execution_count": 11,
   "id": "aff9b603",
   "metadata": {
    "scrolled": true
   },
   "outputs": [
    {
     "name": "stdout",
     "output_type": "stream",
     "text": [
      "{1: {'accuracy': '97.68%', 'Recall Macro Average': '97.68%', 'Precision Macro Average': '97.69%'}, 3: {'accuracy': '98.88%', 'Recall Macro Average': '98.88%', 'Precision Macro Average': '98.88%'}, 5: {'accuracy': '98.92%', 'Recall Macro Average': '98.92%', 'Precision Macro Average': '98.92%'}, 7: {'accuracy': '98.94%', 'Recall Macro Average': '98.94%', 'Precision Macro Average': '98.94%'}, 9: {'accuracy': '98.95%', 'Recall Macro Average': '98.95%', 'Precision Macro Average': '98.95%'}}\n"
     ]
    }
   ],
   "source": [
    "kNN_alg(np.concatenate((pred1, pred3, pred4, pred5), axis=0), pred2,\n",
    "        np.concatenate((tar1, tar3, tar4, tar5), axis=0), tar2)"
   ]
  },
  {
   "cell_type": "markdown",
   "id": "90e6c206",
   "metadata": {},
   "source": [
    "<b style='color:red !important;'>Third Fold</b>"
   ]
  },
  {
   "cell_type": "code",
   "execution_count": 12,
   "id": "13705920",
   "metadata": {},
   "outputs": [
    {
     "name": "stdout",
     "output_type": "stream",
     "text": [
      "{1: {'accuracy': '97.68%', 'Recall Macro Average': '97.69%', 'Precision Macro Average': '97.69%'}, 3: {'accuracy': '98.88%', 'Recall Macro Average': '98.89%', 'Precision Macro Average': '98.89%'}, 5: {'accuracy': '98.95%', 'Recall Macro Average': '98.95%', 'Precision Macro Average': '98.95%'}, 7: {'accuracy': '98.98%', 'Recall Macro Average': '98.98%', 'Precision Macro Average': '98.98%'}, 9: {'accuracy': '98.98%', 'Recall Macro Average': '98.98%', 'Precision Macro Average': '98.98%'}}\n"
     ]
    }
   ],
   "source": [
    "kNN_alg(np.concatenate((pred1, pred2, pred4, pred5), axis=0), pred3,\n",
    "        np.concatenate((tar1, tar2, tar4, tar5), axis=0), tar3)"
   ]
  },
  {
   "cell_type": "markdown",
   "id": "0f785bb2",
   "metadata": {},
   "source": [
    "<b style='color:red !important;'>Fourth Fold</b>"
   ]
  },
  {
   "cell_type": "code",
   "execution_count": 13,
   "id": "844d0a6d",
   "metadata": {
    "scrolled": true
   },
   "outputs": [
    {
     "name": "stdout",
     "output_type": "stream",
     "text": [
      "{1: {'accuracy': '97.88%', 'Recall Macro Average': '97.88%', 'Precision Macro Average': '97.89%'}, 3: {'accuracy': '98.73%', 'Recall Macro Average': '98.73%', 'Precision Macro Average': '98.74%'}, 5: {'accuracy': '98.88%', 'Recall Macro Average': '98.87%', 'Precision Macro Average': '98.88%'}, 7: {'accuracy': '98.88%', 'Recall Macro Average': '98.87%', 'Precision Macro Average': '98.88%'}, 9: {'accuracy': '98.87%', 'Recall Macro Average': '98.87%', 'Precision Macro Average': '98.87%'}}\n"
     ]
    }
   ],
   "source": [
    "kNN_alg(np.concatenate((pred1, pred2, pred3, pred5), axis=0), pred4,\n",
    "        np.concatenate((tar1, tar2, tar3, tar5), axis=0), tar4)"
   ]
  },
  {
   "cell_type": "markdown",
   "id": "4304673b",
   "metadata": {},
   "source": [
    "<b style='color:red !important;'>Fifth Fold</b>"
   ]
  },
  {
   "cell_type": "code",
   "execution_count": 14,
   "id": "998cb414",
   "metadata": {},
   "outputs": [
    {
     "name": "stdout",
     "output_type": "stream",
     "text": [
      "{1: {'accuracy': '97.76%', 'Recall Macro Average': '97.75%', 'Precision Macro Average': '97.75%'}, 3: {'accuracy': '98.83%', 'Recall Macro Average': '98.83%', 'Precision Macro Average': '98.83%'}, 5: {'accuracy': '98.89%', 'Recall Macro Average': '98.89%', 'Precision Macro Average': '98.89%'}, 7: {'accuracy': '98.88%', 'Recall Macro Average': '98.88%', 'Precision Macro Average': '98.88%'}, 9: {'accuracy': '98.90%', 'Recall Macro Average': '98.90%', 'Precision Macro Average': '98.90%'}}\n"
     ]
    }
   ],
   "source": [
    "kNN_alg(np.concatenate((pred1, pred2, pred3, pred4), axis=0), pred5,\n",
    "        np.concatenate((tar1, tar2, tar3, tar4), axis=0), tar5)"
   ]
  },
  {
   "cell_type": "markdown",
   "id": "62049f49",
   "metadata": {},
   "source": [
    "<b style='color:blue !important;'>With feature normalization</b>"
   ]
  },
  {
   "cell_type": "code",
   "execution_count": 18,
   "id": "58f1351e",
   "metadata": {},
   "outputs": [],
   "source": [
    "pred_normal = feature_normalizer(pred_data)"
   ]
  },
  {
   "cell_type": "code",
   "execution_count": 20,
   "id": "1970e742",
   "metadata": {},
   "outputs": [],
   "source": [
    "predn1, predn2, predn3, predn4, predn5 = np.array_split(pred_normal, 5)\n"
   ]
  },
  {
   "cell_type": "markdown",
   "id": "3f3cdf58",
   "metadata": {},
   "source": [
    "<b style='color:red !important;'>First Fold</b>"
   ]
  },
  {
   "cell_type": "code",
   "execution_count": 22,
   "id": "88902d44",
   "metadata": {},
   "outputs": [
    {
     "name": "stdout",
     "output_type": "stream",
     "text": [
      "{1: {'accuracy': '97.72%', 'Recall Macro Average': '97.72%', 'Precision Macro Average': '97.72%'}, 3: {'accuracy': '98.83%', 'Recall Macro Average': '98.83%', 'Precision Macro Average': '98.84%'}, 5: {'accuracy': '98.88%', 'Recall Macro Average': '98.88%', 'Precision Macro Average': '98.89%'}, 7: {'accuracy': '98.89%', 'Recall Macro Average': '98.89%', 'Precision Macro Average': '98.90%'}, 9: {'accuracy': '98.91%', 'Recall Macro Average': '98.90%', 'Precision Macro Average': '98.91%'}}\n"
     ]
    }
   ],
   "source": [
    "kNN_alg(np.concatenate((predn2, predn3, predn4, predn5), axis=0), predn1,\n",
    "        np.concatenate((tar2, tar3, tar4, tar5), axis=0), tar1)"
   ]
  },
  {
   "cell_type": "code",
   "execution_count": 23,
   "id": "148b136d",
   "metadata": {
    "scrolled": true
   },
   "outputs": [
    {
     "name": "stdout",
     "output_type": "stream",
     "text": [
      "{1: {'accuracy': '97.69%', 'Recall Macro Average': '97.69%', 'Precision Macro Average': '97.69%'}, 3: {'accuracy': '98.76%', 'Recall Macro Average': '98.76%', 'Precision Macro Average': '98.76%'}, 5: {'accuracy': '98.82%', 'Recall Macro Average': '98.82%', 'Precision Macro Average': '98.82%'}, 7: {'accuracy': '98.83%', 'Recall Macro Average': '98.82%', 'Precision Macro Average': '98.82%'}, 9: {'accuracy': '98.86%', 'Recall Macro Average': '98.86%', 'Precision Macro Average': '98.86%'}}\n"
     ]
    }
   ],
   "source": [
    "kNN_alg(np.concatenate((predn1, predn3, predn4, predn5), axis=0), predn2,\n",
    "        np.concatenate((tar1, tar3, tar4, tar5), axis=0), tar2)"
   ]
  },
  {
   "cell_type": "code",
   "execution_count": 24,
   "id": "c4e73300",
   "metadata": {},
   "outputs": [
    {
     "name": "stdout",
     "output_type": "stream",
     "text": [
      "{1: {'accuracy': '97.70%', 'Recall Macro Average': '97.70%', 'Precision Macro Average': '97.70%'}, 3: {'accuracy': '98.83%', 'Recall Macro Average': '98.84%', 'Precision Macro Average': '98.84%'}, 5: {'accuracy': '98.97%', 'Recall Macro Average': '98.97%', 'Precision Macro Average': '98.97%'}, 7: {'accuracy': '98.93%', 'Recall Macro Average': '98.94%', 'Precision Macro Average': '98.94%'}, 9: {'accuracy': '98.96%', 'Recall Macro Average': '98.96%', 'Precision Macro Average': '98.96%'}}\n"
     ]
    }
   ],
   "source": [
    "kNN_alg(np.concatenate((predn1, predn2, predn4, predn5), axis=0), predn3,\n",
    "        np.concatenate((tar1, tar2, tar4, tar5), axis=0), tar3)"
   ]
  },
  {
   "cell_type": "markdown",
   "id": "01b2aca7",
   "metadata": {},
   "source": [
    "<b style='color:red !important;'>Error Analysis for Classification</b>"
   ]
  },
  {
   "cell_type": "markdown",
   "id": "c8a5e0f3",
   "metadata": {},
   "source": [
    "For k values in the first fold <font color='red'>without</font> feature normalization:"
   ]
  },
  {
   "cell_type": "markdown",
   "id": "86afda49",
   "metadata": {},
   "source": [
    "1: {'accuracy': '97.87%'"
   ]
  },
  {
   "cell_type": "markdown",
   "id": "c216c927",
   "metadata": {},
   "source": [
    "3: {'accuracy': '98.86%'"
   ]
  },
  {
   "cell_type": "markdown",
   "id": "0613ef5c",
   "metadata": {},
   "source": [
    "5: {'accuracy': '98.92%'"
   ]
  },
  {
   "cell_type": "markdown",
   "id": "6b806f20",
   "metadata": {},
   "source": [
    "7: {'accuracy': '98.94%'"
   ]
  },
  {
   "cell_type": "markdown",
   "id": "bdb204ff",
   "metadata": {},
   "source": [
    "9: {'accuracy': '98.97%'"
   ]
  },
  {
   "cell_type": "markdown",
   "id": "d9cd177b",
   "metadata": {},
   "source": [
    "We can see that as k value increases, the accuracy of the algorithm increases as well.\n",
    "\n",
    "For k values in the first fold <font color='red'>with</font> feature normalization:\n",
    "\n",
    "1: {'accuracy': '97.72%'\n",
    "\n",
    "3: {'accuracy': '98.83%'\n",
    "\n",
    "5: {'accuracy': '98.88%'\n",
    "\n",
    "7: {'accuracy': '98.89%'\n",
    "\n",
    "9: {'accuracy': '98.91%'\n",
    "\n",
    "\n"
   ]
  },
  {
   "cell_type": "markdown",
   "id": "9ca3eef8",
   "metadata": {},
   "source": [
    "We can see that Feature Normalization yields lesser accuracy."
   ]
  },
  {
   "cell_type": "code",
   "execution_count": null,
   "id": "f9a16e4a",
   "metadata": {},
   "outputs": [],
   "source": []
  }
 ],
 "metadata": {
  "kernelspec": {
   "display_name": "Python 3 (ipykernel)",
   "language": "python",
   "name": "python3"
  },
  "language_info": {
   "codemirror_mode": {
    "name": "ipython",
    "version": 3
   },
   "file_extension": ".py",
   "mimetype": "text/x-python",
   "name": "python",
   "nbconvert_exporter": "python",
   "pygments_lexer": "ipython3",
   "version": "3.9.13"
  }
 },
 "nbformat": 4,
 "nbformat_minor": 5
}
